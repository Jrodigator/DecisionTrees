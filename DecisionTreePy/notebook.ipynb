{
 "cells": [
  {
   "cell_type": "markdown",
   "metadata": {},
   "source": [
    "## Import"
   ]
  },
  {
   "cell_type": "code",
   "execution_count": 294,
   "metadata": {},
   "outputs": [],
   "source": [
    "import numpy as np\n",
    "import pandas as pd\n",
    "from sklearn import datasets "
   ]
  },
  {
   "cell_type": "markdown",
   "metadata": {},
   "source": [
    "## Data (Iris)"
   ]
  },
  {
   "cell_type": "code",
   "execution_count": 295,
   "metadata": {},
   "outputs": [
    {
     "name": "stdout",
     "output_type": "stream",
     "text": [
      "   sepal length (cm)  sepal width (cm)  petal length (cm)  petal width (cm)\n",
      "0                5.1               3.5                1.4               0.2\n",
      "1                4.9               3.0                1.4               0.2\n",
      "2                4.7               3.2                1.3               0.2\n",
      "3                4.6               3.1                1.5               0.2\n",
      "4                5.0               3.6                1.4               0.2\n",
      "   0\n",
      "0  0\n",
      "1  0\n",
      "2  0\n",
      "3  0\n",
      "4  0\n"
     ]
    }
   ],
   "source": [
    "if 1:\n",
    "    iris = datasets.load_iris()\n",
    "    data = pd.DataFrame(iris.data)\n",
    "    data.columns = iris.feature_names\n",
    "    target = pd.DataFrame(iris.target)\n",
    "elif 1:\n",
    "    iris = datasets.load_linnerud()\n",
    "    data = pd.DataFrame(iris.data)\n",
    "    data.columns = iris.feature_names\n",
    "    target = pd.DataFrame(iris.target)\n",
    "\n",
    "print(data.head())\n",
    "print(target.head())"
   ]
  },
  {
   "cell_type": "markdown",
   "metadata": {},
   "source": [
    "## Nodes \n",
    "Each node of the tree, ending in a leaf node. "
   ]
  },
  {
   "cell_type": "code",
   "execution_count": 296,
   "metadata": {},
   "outputs": [],
   "source": [
    "class Branch():\n",
    "    def __init__(self, feature=None, thresh=None, left=None, right=None, info_gain=None, value=None):\n",
    "        # non leaf node (decision node)\n",
    "        self.feature = feature\n",
    "        self.thresh = thresh\n",
    "        self.left = left\n",
    "        self.right = right\n",
    "        self.info_gain = info_gain\n",
    "        # leaf node\n",
    "        self.value = value"
   ]
  },
  {
   "cell_type": "markdown",
   "metadata": {},
   "source": [
    "## Trees \n",
    "For this NB ill only be using a single tree. "
   ]
  },
  {
   "cell_type": "code",
   "execution_count": 297,
   "metadata": {},
   "outputs": [],
   "source": [
    "class Tree():\n",
    "    def __init__(self, min_samples_split=2, max_depth=2):        \n",
    "        self.root = None # keep track of root node\n",
    "        # parameters\n",
    "        self.min_samples_split = min_samples_split\n",
    "        self.max_depth = max_depth\n",
    "        \n",
    "    def build_tree(self, dataset, curr_depth=0):\n",
    "        # recusivly build tree\n",
    "        X, Y = dataset[:,:-1], dataset[:,-1]\n",
    "        num_samples, num_features = np.shape(X)\n",
    "\n",
    "        if num_samples>=self.min_samples_split and curr_depth<=self.max_depth:\n",
    "            # find the best split\n",
    "            best_split = self.get_best_split(dataset, num_samples, num_features)\n",
    "            #print(best_split)\n",
    "            # check if information gain is positive\n",
    "            if best_split != {}:\n",
    "                if best_split[\"info_gain\"]>0:\n",
    "                    # recur left\n",
    "                    left_subtree = self.build_tree(best_split[\"dataset_left\"], curr_depth+1)\n",
    "                    # recur right\n",
    "                    right_subtree = self.build_tree(best_split[\"dataset_right\"], curr_depth+1)\n",
    "                    # return decision node\n",
    "                    return Branch(best_split[\"feature_index\"], best_split[\"threshold\"], \n",
    "                            left_subtree, right_subtree, best_split[\"info_gain\"])\n",
    "    \n",
    "        leaf_value = self.calculate_leaf_value(Y)\n",
    "        return Branch(value=leaf_value)\n",
    "    \n",
    "    def get_best_split(self, dataset, num_samples, num_features):\n",
    "        best_split = {}\n",
    "        max_info_gain = -float(999999999)\n",
    "        # features\n",
    "        for feature_index in range(num_features):\n",
    "            feature_values = dataset[:, feature_index]\n",
    "            possible_thresholds = np.unique(feature_values)\n",
    "            # feature values present in the data\n",
    "            for threshold in possible_thresholds:\n",
    "                # get current split\n",
    "                dataset_left, dataset_right = self.split(dataset, feature_index, threshold)\n",
    "                # check if childs are not empty\n",
    "                if len(dataset_left)>0 and len(dataset_right)>0:\n",
    "                    y, left_y, right_y = dataset[:, -1], dataset_left[:, -1], dataset_right[:, -1]\n",
    "                    # information gain\n",
    "                    curr_info_gain = self.information_gain(y, left_y, right_y, \"gini\")\n",
    "                    # update the best split if needed\n",
    "                    if curr_info_gain > max_info_gain:\n",
    "                        best_split[\"feature_index\"] = feature_index\n",
    "                        best_split[\"threshold\"] = threshold\n",
    "                        best_split[\"dataset_left\"] = dataset_left\n",
    "                        best_split[\"dataset_right\"] = dataset_right\n",
    "                        best_split[\"info_gain\"] = curr_info_gain\n",
    "                        max_info_gain = curr_info_gain\n",
    "                        \n",
    "        # return best split\n",
    "        return best_split\n",
    "    \n",
    "    def split(self, dataset, feature_index, threshold):\n",
    "        dataset_left = np.array([row for row in dataset if row[feature_index]<=threshold])\n",
    "        dataset_right = np.array([row for row in dataset if row[feature_index]>threshold])\n",
    "        return dataset_left, dataset_right\n",
    "    \n",
    "    def information_gain(self, parent, l_child, r_child, mode=\"entropy\"):\n",
    "        weight_l = len(l_child) / len(parent)\n",
    "        weight_r = len(r_child) / len(parent)\n",
    "        if mode==\"gini\":\n",
    "            gain = self.gini_index(parent) - (weight_l*self.gini_index(l_child) + weight_r*self.gini_index(r_child))\n",
    "        else:\n",
    "            gain = self.entropy(parent) - (weight_l*self.entropy(l_child) + weight_r*self.entropy(r_child))\n",
    "        return gain\n",
    "    \n",
    "    def entropy(self, y):\n",
    "        class_labels = np.unique(y)\n",
    "        entropy = 0\n",
    "        for cls in class_labels:\n",
    "            p_cls = len(y[y == cls]) / len(y)\n",
    "            entropy += -p_cls * np.log2(p_cls)\n",
    "        return entropy\n",
    "    \n",
    "    def gini_index(self, y):\n",
    "        class_labels = np.unique(y)\n",
    "        gini = 0\n",
    "        for cls in class_labels:\n",
    "            p_cls = len(y[y == cls]) / len(y)\n",
    "            gini += p_cls**2\n",
    "        return 1 - gini\n",
    "        \n",
    "    def calculate_leaf_value(self, Y):\n",
    "        Y = list(Y)\n",
    "        return max(Y, key=Y.count)\n",
    "    \n",
    "    def print_tree(self, tree=None, indent=\" \"):\n",
    "        if not tree:\n",
    "            tree = self.root\n",
    "\n",
    "        if tree.value is not None:\n",
    "            print(tree.value)\n",
    "\n",
    "        else:\n",
    "            print(\"X_\"+str(tree.feature), \"<=\", tree.thresh, \"?\", tree.info_gain)\n",
    "            print(\"%sleft:\" % (indent), end=\"\")\n",
    "            self.print_tree(tree.left, indent + indent)\n",
    "            print(\"%sright:\" % (indent), end=\"\")\n",
    "            self.print_tree(tree.right, indent + indent)\n",
    "    \n",
    "    def fit(self, X, Y):\n",
    "        dataset = np.concatenate((X, Y), axis=1)\n",
    "        self.root = self.build_tree(dataset)\n",
    "    \n",
    "    def predict(self, X):\n",
    "        preditions = [self.make_prediction(x, self.root) for x in X]\n",
    "        return preditions\n",
    "    \n",
    "    def make_prediction(self, x, tree):\n",
    "        if tree.value!=None: return tree.value\n",
    "        feature_val = x[tree.feature]\n",
    "        if feature_val<=tree.thresh:\n",
    "            return self.make_prediction(x, tree.left)\n",
    "        else:\n",
    "            return self.make_prediction(x, tree.right)"
   ]
  },
  {
   "cell_type": "markdown",
   "metadata": {},
   "source": [
    "## Split train/test data"
   ]
  },
  {
   "cell_type": "code",
   "execution_count": 298,
   "metadata": {},
   "outputs": [],
   "source": [
    "X = data.values\n",
    "Y = target\n",
    "from sklearn.model_selection import train_test_split\n",
    "X_train, X_test, Y_train, Y_test = train_test_split(X, Y, test_size=.2, random_state=111)"
   ]
  },
  {
   "cell_type": "markdown",
   "metadata": {},
   "source": [
    "## Fit Model "
   ]
  },
  {
   "cell_type": "code",
   "execution_count": 299,
   "metadata": {},
   "outputs": [
    {
     "name": "stdout",
     "output_type": "stream",
     "text": [
      "X_2 <= 1.9 ? 0.33395833333333336\n",
      " left:0.0\n",
      " right:X_3 <= 1.6 ? 0.42707880434782614\n",
      "  left:X_2 <= 4.9 ? 0.08931947069943283\n",
      "    left:1.0\n",
      "    right:X_0 <= 6.0 ? 0.375\n",
      "        left:1.0\n",
      "        right:2.0\n",
      "  right:2.0\n"
     ]
    }
   ],
   "source": [
    "model = Tree(max_depth=4, min_samples_split=2)\n",
    "model.fit(X_train, Y_train)\n",
    "model.print_tree()"
   ]
  },
  {
   "cell_type": "markdown",
   "metadata": {},
   "source": [
    "## Get accuracy with sklearn"
   ]
  },
  {
   "cell_type": "code",
   "execution_count": 300,
   "metadata": {},
   "outputs": [
    {
     "name": "stdout",
     "output_type": "stream",
     "text": [
      "[0.0, 0.0, 2.0, 2.0, 2.0, 0.0, 0.0, 2.0, 2.0, 1.0, 2.0, 0.0, 1.0, 2.0, 2.0, 0.0, 2.0, 1.0, 0.0, 2.0, 1.0, 2.0, 1.0, 1.0, 2.0, 0.0, 0.0, 2.0, 0.0, 2.0]\n",
      "     0\n",
      "39   0\n",
      "26   0\n",
      "109  2\n",
      "123  2\n",
      "77   1\n",
      "24   0\n",
      "0    0\n",
      "139  2\n",
      "144  2\n",
      "56   1\n",
      "131  2\n",
      "36   0\n",
      "119  2\n",
      "124  2\n",
      "105  2\n",
      "15   0\n",
      "126  2\n",
      "57   1\n",
      "35   0\n",
      "140  2\n",
      "73   1\n",
      "137  2\n",
      "55   1\n",
      "82   1\n",
      "113  2\n",
      "23   0\n",
      "25   0\n",
      "70   1\n",
      "2    0\n",
      "136  2\n"
     ]
    },
    {
     "data": {
      "text/plain": [
       "0.9"
      ]
     },
     "execution_count": 300,
     "metadata": {},
     "output_type": "execute_result"
    }
   ],
   "source": [
    "Y_pred = model.predict(X_test) \n",
    "print(Y_pred)\n",
    "print(Y_test)\n",
    "from sklearn.metrics import accuracy_score\n",
    "accuracy_score(Y_test, Y_pred)"
   ]
  },
  {
   "cell_type": "markdown",
   "metadata": {},
   "source": [
    "## Random Forest"
   ]
  },
  {
   "cell_type": "code",
   "execution_count": 301,
   "metadata": {},
   "outputs": [],
   "source": [
    "from scipy import stats\n",
    "\n",
    "class Forest():\n",
    "    def __init__(self, num_trees = 5, min_samples_split=2, max_depth=2):\n",
    "        ''' constructor '''\n",
    "        \n",
    "        # initialize the number of trees\n",
    "        self.num_trees = num_trees\n",
    "        self.min_samples_split = min_samples_split\n",
    "        self.max_depth = max_depth\n",
    "\n",
    "    def fit(self, X_train, Y_train):\n",
    "        ''' function to train the entire forest '''\n",
    "        \n",
    "        # list to store the individual decision trees\n",
    "        forest = []\n",
    "        for i in range(self.num_trees):\n",
    "            tree = Tree(min_samples_split=self.min_samples_split, max_depth=self.max_depth)\n",
    "            X_train_new, Y_train_new = self.bootstrap_sample(X_train, Y_train)\n",
    "            #X_train_new = self.drop_features(X_train_new)\n",
    "            tree.fit(X_train_new, Y_train_new)\n",
    "            forest.append(tree)\n",
    "            #print(i)\n",
    "        \n",
    "        self.forest = forest\n",
    "\n",
    "    def bootstrap_sample(self, x, y):\n",
    "        x = np.array(x)\n",
    "        y = np.array(y)\n",
    "        shrink = 0.9\n",
    "        num_samples, num_features = np.shape(x)\n",
    "        x_train_new, y_train_new = np.zeros((int(num_samples*shrink), num_features)), np.zeros((int(num_samples*shrink), 1))\n",
    "\n",
    "        for i in range(int(num_samples*shrink)):\n",
    "            idx = np.random.randint(0, num_samples)\n",
    "            x_train_new[i, :] = x[idx, :]\n",
    "            y_train_new[i, :] = y[idx, :]\n",
    "            \n",
    "        return x_train_new, y_train_new\n",
    "\n",
    "\n",
    "    def drop_features(self, x_train, drop_percent=0.3):\n",
    "        num_samples, num_features = np.shape(x_train)\n",
    "        num_drop = int(num_features*drop_percent)\n",
    "        if num_drop != 0:\n",
    "            drop_indices = np.random.choice(np.arange(num_features), num_drop, replace=False)\n",
    "            x_train = np.delete(x_train, drop_indices, axis=1)\n",
    "        return x_train\n",
    "    \n",
    "\n",
    "    def predict_trees(self, X_test):\n",
    "        predictions = []\n",
    "        for tree in self.forest:\n",
    "            pred = tree.predict(X_test)\n",
    "            predictions.append(pred)\n",
    "        return predictions\n",
    "\n",
    "\n",
    "    def predict(self, X_test):\n",
    "        pred = self.predict_trees(X_test)\n",
    "        #print(\"predictions: \", pred)\n",
    "        predictions = stats.mode(pred, keepdims=True)[0][0]\n",
    "        return predictions\n",
    "\n",
    "\n",
    "    def print_forest(self):\n",
    "\n",
    "        for i, tree in enumerate(self.forest) :\n",
    "            #print(\"\\nTree: \", i, \"\\n\")\n",
    "            tree.print_tree()\n",
    "\n"
   ]
  },
  {
   "cell_type": "code",
   "execution_count": 309,
   "metadata": {},
   "outputs": [
    {
     "name": "stdout",
     "output_type": "stream",
     "text": [
      "Accuracy score ( 0  trees):  93.33333333333333 %\n",
      "Accuracy score ( 20  trees):  96.66666666666667 %\n",
      "Accuracy score ( 40  trees):  90.0 %\n",
      "Accuracy score ( 60  trees):  100.0 %\n",
      "Accuracy score ( 80  trees):  96.66666666666667 %\n",
      "Accuracy score ( 100  trees):  96.66666666666667 %\n",
      "Accuracy score ( 120  trees):  100.0 %\n",
      "Accuracy score ( 140  trees):  90.0 %\n",
      "Accuracy score ( 160  trees):  100.0 %\n",
      "Accuracy score ( 180  trees):  100.0 %\n",
      "Accuracy score ( 200  trees):  96.66666666666667 %\n",
      "Accuracy score ( 220  trees):  96.66666666666667 %\n",
      "Accuracy score ( 240  trees):  93.33333333333333 %\n",
      "Accuracy score ( 260  trees):  86.66666666666667 %\n",
      "Accuracy score ( 280  trees):  93.33333333333333 %\n"
     ]
    }
   ],
   "source": [
    "for x in range(0, 15):\n",
    "    X_train, X_test, Y_train, Y_test = train_test_split(X, Y, test_size=.2, random_state=(x*13+3))\n",
    "    forest = Forest(num_trees=(x*10 + 1), min_samples_split=3, max_depth=3)\n",
    "    forest.fit(X_train, Y_train)\n",
    "    #forest.print_forest()\n",
    "    predictions = forest.predict(X_test)\n",
    "\n",
    "    #print(\"final predictions: \", predictions)\n",
    "    #print(\"Y_train: \", Y_test)\n",
    "    print(\"Accuracy score (\", x*20, \" trees): \", 100 * accuracy_score(Y_test, predictions), \"%\")"
   ]
  },
  {
   "cell_type": "code",
   "execution_count": null,
   "metadata": {},
   "outputs": [],
   "source": []
  },
  {
   "cell_type": "code",
   "execution_count": null,
   "metadata": {},
   "outputs": [],
   "source": []
  }
 ],
 "metadata": {
  "kernelspec": {
   "display_name": "Python 3",
   "language": "python",
   "name": "python3"
  },
  "language_info": {
   "codemirror_mode": {
    "name": "ipython",
    "version": 3
   },
   "file_extension": ".py",
   "mimetype": "text/x-python",
   "name": "python",
   "nbconvert_exporter": "python",
   "pygments_lexer": "ipython3",
   "version": "3.10.4"
  }
 },
 "nbformat": 4,
 "nbformat_minor": 2
}
